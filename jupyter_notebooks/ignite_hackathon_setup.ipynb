{
 "cells": [
  {
   "cell_type": "markdown",
   "id": "f184dc7f",
   "metadata": {},
   "source": [
    "# 🛠️ Hackathon Foundational Setup\n",
    "\n",
    "This guide will walk you through almost everything you need to do **on Day 1** of the Data Analytics with AI Hackathon. Follow the steps in order, and don’t hesitate to reach out in your team chat if you hit any snags!\n",
    "\n",
    "---\n",
    "\n",
    "## 1. GitHub Repository & Permissions\n",
    "\n",
    "1. **Create your repo from the template**  \n",
    "   - Go to: [Code Institute Analytics Template](https://github.com/Code-Institute-Org/data-analytics-template)  \n",
    "   - Click **Use this template** → **Create a new repository**  \n",
    "   - Name it (e.g., `healthcare-insurance-dashboard`).\n",
    "\n",
    "2. **Enforce branch protection**\n",
    "   - Go to **Settings → Branches → Add rule**\n",
    "   - Apply to the `main` branch and check:\n",
    "     - ✅ Require pull request before merging\n",
    "     - ✅ Require review from Code Owners\n",
    "     - ✅ Do **not** allow force-pushes or bypasses\n",
    "\n",
    "3. **Make the repo public & add collaborators**\n",
    "   - Go to **Settings → Manage access**\n",
    "   - Invite teammates or share the repo link\n",
    "\n",
    "4. **Each collaborator forks the repo**\n",
    "   - Clone your fork:\n",
    "     ```bash\n",
    "     git clone https://github.com/<your-username>/healthcare-insurance-dashboard.git\n",
    "     ```\n",
    "\n",
    "---\n",
    "\n",
    "## 2. Local Project Setup\n",
    "\n",
    "### 🗂️ Recommended Folder Structure\n",
    "\n",
    "```plaintext\n",
    "healthcare-insurance-dashboard/\n",
    "├── .github/\n",
    "├── data/\n",
    "│   ├── raw/                # original dataset from Kaggle\n",
    "│   ├── processed/          # cleaned data used for modeling\n",
    "├── jupyter notebooks/              # Jupyter notebooks for EDA, modeling\n",
    "│   ├── step1_etl_pipeline/                # step by step etl pipeline \n",
    "│   ├── step2_data_visualization/          # consolidated visualization snippets\n",
    "├── src/                    # custom scripts for ETL, analysis\n",
    "│   ├── etl.py\n",
    "│   ├── visuals.py\n",
    "├── .gitignore\n",
    "├── requirements.txt\n",
    "└── README.md\n"
   ]
  },
  {
   "cell_type": "markdown",
   "id": "048a119c",
   "metadata": {},
   "source": [
    "## 🧪 Virtual Environment Setup\n",
    "\n",
    "### Remove any existing venv\n",
    "rm -rf venv .venv\n",
    "\n",
    "### Create and activate a new venv\n",
    "python3 -m venv .venv  \n",
    "source .venv/bin/activate        # Windows: source .venv/Scripts/activate\n",
    "\n",
    "### Install packages\n",
    "pip install -r requirements.txt  \n",
    "pip install numpy plotly nbformat\n",
    "\n",
    "### Save the environment\n",
    "pip freeze > requirements.txt  \n",
    "\n",
    "### Deactivate when done\n",
    "deactivate\n"
   ]
  },
  {
   "cell_type": "markdown",
   "id": "1f7d775f",
   "metadata": {},
   "source": [
    "✅ Ensure .venv/ is included in your .gitignore file.\n",
    "\n",
    "---"
   ]
  },
  {
   "cell_type": "markdown",
   "id": "19cf68e8",
   "metadata": {},
   "source": [
    "## 3. 🛠️ Project Management with GitHub Kanban Board\n",
    "\n",
    "### 🛠️ Create a Project Board\n",
    "\n",
    "1. Go to your GitHub repo → **Projects** tab → click **New Project**\n",
    "2. Choose **Board view**\n",
    "3. Name it (e.g., `Hackathon Sprint`)\n",
    "4. Add columns:\n",
    "   - `To Do`\n",
    "   - `In Progress`\n",
    "   - `Review`\n",
    "   - `Done`\n",
    "\n",
    "### 🧾 Create Issues & Link Tasks\n",
    "\n",
    "1. Go to **Issues** → click **New Issue**\n",
    "2. Use a naming format like:\n",
    "\n",
    "   ```markdown\n",
    "   [EDA] Initial exploration of raw dataset\n",
    "\n",
    "3. Assign it to a teammate\n",
    "4. Link it to the board via the Projects section in the issue sidebar\n",
    "\n",
    "✅ Best Practices\n",
    "One task = one issue\n",
    "\n",
    "Use labels like: EDA, ETL, Visualization\n",
    "\n",
    "Link commits using #issue-number\n",
    "git commit -m \"📊 Added EDA summary chart #7\"\n",
    "\n",
    "---\n"
   ]
  },
  {
   "cell_type": "markdown",
   "id": "ec83746e",
   "metadata": {},
   "source": [
    "## 4. ⚙️ Kaggle API & Data Download\n",
    "\n",
    "### ⚙️ Setup\n",
    "\n",
    "#### Install the Kaggle Python package\n",
    "pip install kaggle  \n",
    "\n",
    "#### Create the .kaggle directory in the user's home folder\n",
    "mkdir -p ~/.kaggle  \n",
    "\n",
    "#### Move the downloaded Kaggle API key (kaggle.json) to the .kaggle directory\n",
    "mv ~/Downloads/kaggle.json ~/.kaggle/  \n",
    "\n",
    "#### Set the appropriate permissions for the Kaggle API key file\n",
    "chmod 600 ~/.kaggle/kaggle.json  \n",
    "\n",
    "#### 📦 Example Download  \n",
    "\n",
    "kaggle datasets download -d sakshigoyal7/credit-card-customers -p data/raw --unzip\n",
    "\n",
    "---\n"
   ]
  },
  {
   "cell_type": "markdown",
   "id": "5128901e",
   "metadata": {},
   "source": [
    "## 5. 🧪 Data Loading & Saving\n",
    "\n",
    "import pandas as pd\n",
    "\n",
    "# Load from raw folder\n",
    "df = pd.read_csv('data/raw/BankChurners.csv')\n",
    "\n",
    "# Example transformation\n",
    "df_cleaned = df.drop(columns=['Unnamed: 0'])\n",
    "\n",
    "# Save to processed folder\n",
    "df_cleaned.to_csv('data/processed/cleaned.csv', index=False)\n"
   ]
  },
  {
   "cell_type": "markdown",
   "id": "dafe9568",
   "metadata": {},
   "source": [
    "## 6. 🤝 Collaboration Methods\n",
    "\n",
    "### 🔗 A. VS Code Live Share (Recommended)\n",
    "1. Install the Live Share extension from the VS Code Marketplace\n",
    "\n",
    "2. Click the Live Share button in the bottom bar\n",
    "\n",
    "3. Sign in using GitHub or Microsoft\n",
    "\n",
    "4. Share the session link in your team chat\n",
    "\n",
    "5. Collaborate live on notebooks and scripts\n",
    "\n",
    "### 🌿 B. Branching Workflow (Optional)\n",
    "\n",
    "git checkout -b etl-pipeline     # Create a new branch  \n",
    "#### Make your changes  \n",
    "git add .  \n",
    "git commit -m \"added ETL pipeline\"  \n",
    "git push origin etl-pipeline  "
   ]
  },
  {
   "cell_type": "markdown",
   "id": "8c190e09",
   "metadata": {},
   "source": [
    "- Open a Pull Request on GitHub\n",
    "\n",
    "- Request a review\n",
    "\n",
    "- Merge once approved\n",
    "\n",
    "---"
   ]
  },
  {
   "cell_type": "markdown",
   "id": "eab9e45b",
   "metadata": {},
   "source": [
    "## 7. ✅ Good Coding Practices\n",
    "- Use meaningful variable names\n",
    "\n",
    "- Write modular, reusable functions\n",
    "\n",
    "- Add docstrings and inline comments\n",
    "\n",
    "- Use CoPilot or AI tools responsibly\n",
    "\n",
    "- Maintain a clear folder structure: data/, src/, notebooks/\n",
    "\n",
    "- Use relative imports inside scripts\n",
    "\n",
    "- Move heavy logic from notebooks to .py files\n",
    "\n",
    "- Follow PEP8 and use tools like flake8, or pylint\n",
    "\n",
    "---"
   ]
  },
  {
   "cell_type": "markdown",
   "id": "d9f7b7f0",
   "metadata": {},
   "source": [
    "## 8. 🔁 Commit & Push Workflow\n",
    "\n",
    "### For Collaborators\n",
    "\n",
    "git checkout -b <feature-branch>        # Create your feature branch\n",
    "git add .                               # Stage changes\n",
    "git commit -m \"🧼 Cleaned data\"          # Use a clear message\n",
    "git push origin <feature-branch>        # Push to GitHub\n",
    "\n",
    "\n",
    "### 🤝 For Project Owner\n",
    "\n",
    "1. Go to the **Pull Requests** tab on GitHub  \n",
    "2. Review the PR  \n",
    "3. Add comments if needed or **merge** when approved  \n",
    "4. Delete the branch after merging\n",
    "\n",
    "---\n",
    "\n",
    "## 🚀 Git Workflow for Team Collaboration\n",
    "\n",
    "Using a consistent Git workflow improves collaboration and reduces confusion. Here's a clean process to follow:\n",
    "\n",
    "---\n",
    "\n",
    "### 1. ✨ Create a New Branch\n",
    "\n",
    "```bash\n",
    "git checkout -b sb_feature_name         # Use initials and feature description \n",
    "                                        # to name branches clearly \n",
    "                                        #(e.g., sb_dashboard-refactor).\n",
    "\n"
   ]
  },
  {
   "cell_type": "markdown",
   "id": "99b00749",
   "metadata": {},
   "source": [
    "### 2. 📃 Develop and Commit\n",
    "\n",
    "git add .  \n",
    "git commit -m \"Added feature XYZ with improvements\"  \n",
    "git push origin sb_feature_name  "
   ]
  },
  {
   "cell_type": "markdown",
   "id": "04713cfc",
   "metadata": {},
   "source": [
    "Make small, meaningful commits as you work to maintain a readable history."
   ]
  },
  {
   "cell_type": "markdown",
   "id": "fe46da8e",
   "metadata": {},
   "source": [
    "### 3. 🔄 Keep Your Branch Updated\n",
    "\n",
    "git fetch\n",
    "\n",
    "### 4. 🧹 Squash Commits Before Merging\n",
    "\n",
    "git rebase -i origin/main\n",
    "\n",
    "### 5. 🔗 Merge into Main\n",
    "\n",
    "git checkout main  \n",
    "git merge sb_feature_name  \n",
    "git push origin main  \n"
   ]
  },
  {
   "cell_type": "markdown",
   "id": "37968e01",
   "metadata": {},
   "source": [
    "After merging, push your updated main branch to the remote repository."
   ]
  },
  {
   "cell_type": "markdown",
   "id": "6d37c2cb",
   "metadata": {},
   "source": [
    "### 6. 🗑️ Cleanup\n",
    "\n",
    "git push origin --delete sb_feature_name  \n",
    "git branch -d sb_feature_name  \n"
   ]
  },
  {
   "cell_type": "markdown",
   "id": "f28c556a",
   "metadata": {},
   "source": [
    "💻 Bonus: Use VS Code Git Integration\n",
    "Switch branches: Click the branch name in the bottom-left corner  \n",
    "\n",
    "Stage & commit: Open the Source Control tab (Ctrl+Shift+G / Cmd+Shift+G)  \n",
    "\n",
    "Fetch/Push: Use Ctrl+Shift+P → search for Git: Fetch or Git: Push  \n",
    "\n",
    "\n",
    "---"
   ]
  },
  {
   "cell_type": "markdown",
   "id": "d14a6ae2",
   "metadata": {},
   "source": [
    "## Credits\n",
    "\n",
    "📘 Git Cheatsheet: https://github.com/banerjixplores/Git-Cheatsheet (Forked from\n",
    "                                                                    Vasi's repo)\n",
    "\n",
    "📊 Data Analytics Template: https://github.com/Code-Institute-Org/data-analytics-template\n",
    "\n",
    "📂 Healthcare Dataset on Kaggle: https://www.kaggle.com/datasets/willianoliveiragibin/healthcare-insurance"
   ]
  },
  {
   "cell_type": "markdown",
   "id": "cc35ef48",
   "metadata": {},
   "source": []
  }
 ],
 "metadata": {
  "kernelspec": {
   "display_name": ".venv",
   "language": "python",
   "name": "python3"
  },
  "language_info": {
   "name": "python",
   "version": "3.12.8"
  }
 },
 "nbformat": 4,
 "nbformat_minor": 5
}
